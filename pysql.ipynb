{
    "metadata": {
        "kernelspec": {
            "name": "python3",
            "display_name": "Python 3",
            "language": "python"
        },
        "language_info": {
            "name": "python",
            "version": "3.8.8",
            "mimetype": "text/x-python",
            "codemirror_mode": {
                "name": "ipython",
                "version": 3
            },
            "pygments_lexer": "ipython3",
            "nbconvert_exporter": "python",
            "file_extension": ".py"
        }
    },
    "nbformat_minor": 2,
    "nbformat": 4,
    "cells": [
        {
            "cell_type": "code",
            "source": [
                "import pyodbc\r\n",
                "import matplotlib.pyplot as plt\r\n",
                "import numpy as np\r\n",
                "import pandas as pd\r\n",
                "from scipy.spatial import distance as sci_distance\r\n",
                "from sklearn import cluster as sk_cluster"
            ],
            "metadata": {
                "azdata_cell_guid": "3ac50c3d-403c-4200-a5c7-3a26b9a258f0",
                "tags": []
            },
            "outputs": [],
            "execution_count": 1
        },
        {
            "cell_type": "markdown",
            "source": [
                "<span style=\"color: rgb(0, 128, 0); font-family: SFMono-Regular, Consolas, &quot;Liberation Mono&quot;, Menlo, Courier, monospace; white-space: pre;\"><b style=\"\">Connect to DB and select data</b></span>"
            ],
            "metadata": {
                "azdata_cell_guid": "84f62cc4-e382-4f2c-9105-285155260eea"
            },
            "attachments": {}
        },
        {
            "cell_type": "code",
            "source": [
                "# Connection string to connect to SQL Server named instance.\r\n",
                "conn_str = pyodbc.connect(\"Driver={SQL Server Native Client 11.0};\"\r\n",
                "\"Server=DESKTOP-ATBQKLU;\"\r\n",
                "\"Database=tpcxbb_1gb;\"\r\n",
                "\"Trusted_Connection=yes;\")"
            ],
            "metadata": {
                "azdata_cell_guid": "c545a91c-be38-49ab-ad10-5303be0b4db7"
            },
            "outputs": [],
            "execution_count": 4
        },
        {
            "cell_type": "code",
            "source": [
                "input_query = '''SELECT\r\n",
                "ss_customer_sk AS customer,\r\n",
                "ROUND(COALESCE(returns_count / NULLIF(1.0*orders_count, 0), 0), 7) AS orderRatio,\r\n",
                "ROUND(COALESCE(returns_items / NULLIF(1.0*orders_items, 0), 0), 7) AS itemsRatio,\r\n",
                "ROUND(COALESCE(returns_money / NULLIF(1.0*orders_money, 0), 0), 7) AS monetaryRatio,\r\n",
                "COALESCE(returns_count, 0) AS frequency\r\n",
                "FROM\r\n",
                "(\r\n",
                "  SELECT\r\n",
                "    ss_customer_sk,\r\n",
                "    -- return order ratio\r\n",
                "    COUNT(distinct(ss_ticket_number)) AS orders_count,\r\n",
                "    -- return ss_item_sk ratio\r\n",
                "    COUNT(ss_item_sk) AS orders_items,\r\n",
                "    -- return monetary amount ratio\r\n",
                "    SUM( ss_net_paid ) AS orders_money\r\n",
                "  FROM store_sales s\r\n",
                "  GROUP BY ss_customer_sk\r\n",
                ") orders\r\n",
                "LEFT OUTER JOIN\r\n",
                "(\r\n",
                "  SELECT\r\n",
                "    sr_customer_sk,\r\n",
                "    -- return order ratio\r\n",
                "    count(distinct(sr_ticket_number)) as returns_count,\r\n",
                "    -- return ss_item_sk ratio\r\n",
                "    COUNT(sr_item_sk) as returns_items,\r\n",
                "    -- return monetary amount ratio\r\n",
                "    SUM( sr_return_amt ) AS returns_money\r\n",
                "FROM store_returns\r\n",
                "GROUP BY sr_customer_sk ) returned ON ss_customer_sk=sr_customer_sk'''\r\n",
                "\r\n",
                "\r\n",
                "# Define the columns we wish to import.\r\n",
                "column_info = {\r\n",
                "    \"customer\": {\"type\": \"integer\"},\r\n",
                "    \"orderRatio\": {\"type\": \"integer\"},\r\n",
                "    \"itemsRatio\": {\"type\": \"integer\"},\r\n",
                "    \"frequency\": {\"type\": \"integer\"}\r\n",
                "}"
            ],
            "metadata": {
                "azdata_cell_guid": "107a0622-4431-4e12-8844-ce0d9c4bb49f"
            },
            "outputs": [],
            "execution_count": 6
        },
        {
            "cell_type": "code",
            "source": [
                "customer_data = pd.read_sql(input_query, conn_str)"
            ],
            "metadata": {
                "azdata_cell_guid": "26030545-863c-4fc7-839c-f8b88e594aca"
            },
            "outputs": [],
            "execution_count": 8
        },
        {
            "cell_type": "code",
            "source": [
                "print(\"Data frame:\", customer_data.head(n=5))"
            ],
            "metadata": {
                "azdata_cell_guid": "1cc84723-9de1-4802-92da-91a01894839b"
            },
            "outputs": [
                {
                    "name": "stdout",
                    "text": "Data frame:    customer  orderRatio  itemsRatio  monetaryRatio  frequency\n0     29727    0.000000    0.000000       0.000000          0\n1     97643    0.068182    0.078176       0.037034          3\n2     57247    0.000000    0.000000       0.000000          0\n3     32549    0.086957    0.068657       0.031281          4\n4      2040    0.000000    0.000000       0.000000          0\n",
                    "output_type": "stream"
                }
            ],
            "execution_count": 9
        },
        {
            "cell_type": "markdown",
            "source": [
                "<span style=\"color: rgb(0, 128, 0); font-family: SFMono-Regular, Consolas, &quot;Liberation Mono&quot;, Menlo, Courier, monospace; white-space: pre; background-color: rgb(242, 242, 242);\"><b>Determine number of clusters using the Elbow method</b></span>"
            ],
            "metadata": {
                "azdata_cell_guid": "b2306529-49cc-4e76-9275-e2f3e291bfda"
            },
            "attachments": {}
        },
        {
            "cell_type": "code",
            "source": [
                "cdata = customer_data\r\n",
                "K = range(1, 20)\r\n",
                "KM = (sk_cluster.KMeans(n_clusters=k).fit(cdata) for k in K)\r\n",
                "centroids = (k.cluster_centers_ for k in KM)\r\n",
                "\r\n",
                "D_k = (sci_distance.cdist(cdata, cent, 'euclidean') for cent in centroids)\r\n",
                "dist = (np.min(D, axis=1) for D in D_k)\r\n",
                "avgWithinSS = [sum(d) / cdata.shape[0] for d in dist]\r\n",
                "plt.plot(K, avgWithinSS, 'b*-')\r\n",
                "plt.grid(True)\r\n",
                "plt.xlabel('Number of clusters')\r\n",
                "plt.ylabel('Average within-cluster sum of squares')\r\n",
                "plt.title('Elbow for KMeans clustering')\r\n",
                "plt.show()"
            ],
            "metadata": {
                "azdata_cell_guid": "32263fff-e7d0-4ae9-81ff-76d3eb6eb1eb"
            },
            "outputs": [
                {
                    "data": {
                        "text/plain": "<Figure size 432x288 with 1 Axes>",
                        "image/png": "[encoded data removed]"
                    },
                    "metadata": {
                        "needs_background": "light"
                    },
                    "output_type": "display_data"
                }
            ],
            "execution_count": 10
        },
        {
            "cell_type": "markdown",
            "source": [
                "<span style=\"color: rgb(0, 128, 0); font-family: SFMono-Regular, Consolas, &quot;Liberation Mono&quot;, Menlo, Courier, monospace; white-space: pre; background-color: rgb(242, 242, 242);\"><b>Perform clustering using Kmeans</b></span>"
            ],
            "metadata": {
                "azdata_cell_guid": "5297d92d-d751-4487-8947-7d91fbaeeec3"
            },
            "attachments": {}
        },
        {
            "cell_type": "code",
            "source": [
                "# It looks like k=4 is a good number to use based on the elbow graph.\r\n",
                "n_clusters = 4\r\n",
                "\r\n",
                "means_cluster = sk_cluster.KMeans(n_clusters=n_clusters, random_state=111)\r\n",
                "columns = [\"orderRatio\", \"itemsRatio\", \"monetaryRatio\", \"frequency\"]\r\n",
                "est = means_cluster.fit(customer_data[columns])\r\n",
                "clusters = est.labels_\r\n",
                "customer_data['cluster'] = clusters\r\n",
                "\r\n",
                "# Print some data about the clusters:\r\n",
                "\r\n",
                "# For each cluster, count the members.\r\n",
                "for c in range(n_clusters):\r\n",
                "    cluster_members=customer_data[customer_data['cluster'] == c][:]\r\n",
                "    print('Cluster{}(n={}):'.format(c, len(cluster_members)))\r\n",
                "    print('-'* 17)\r\n",
                "print(customer_data.groupby(['cluster']).mean())"
            ],
            "metadata": {
                "azdata_cell_guid": "b89f3a49-d86b-42ed-8a36-2d07f1342a2f"
            },
            "outputs": [
                {
                    "name": "stdout",
                    "text": "Cluster0(n=31675):\n-----------------\nCluster1(n=4989):\n-----------------\nCluster2(n=1):\n-----------------\nCluster3(n=671):\n-----------------\n             customer  orderRatio  itemsRatio  monetaryRatio  frequency\ncluster                                                                \n0        50854.809882    0.000000    0.000000       0.000000   0.000000\n1        51332.535779    0.721604    0.453365       0.307721   1.097815\n2        57044.000000    1.000000    2.000000     108.719154   1.000000\n3        48516.023845    0.136277    0.078346       0.044497   4.271237\n",
                    "output_type": "stream"
                }
            ],
            "execution_count": 11
        }
    ]
}