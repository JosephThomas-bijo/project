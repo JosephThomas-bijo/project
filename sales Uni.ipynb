{
    "metadata": {
        "kernelspec": {
            "name": "python3",
            "display_name": "Python 3",
            "language": "python"
        },
        "language_info": {
            "name": "python",
            "version": "3.8.8",
            "mimetype": "text/x-python",
            "codemirror_mode": {
                "name": "ipython",
                "version": 3
            },
            "pygments_lexer": "ipython3",
            "nbconvert_exporter": "python",
            "file_extension": ".py"
        },
        "extensions": {
            "azuredatastudio": {
                "version": 1,
                "views": []
            }
        }
    },
    "nbformat_minor": 2,
    "nbformat": 4,
    "cells": [
        {
            "cell_type": "code",
            "source": [
                "import pandas as pd\n",
                "import numpy as np\n",
                "import seaborn as sns\n",
                "import matplotlib.pyplot as plt"
            ],
            "metadata": {
                "extensions": {
                    "azuredatastudio": {
                        "views": []
                    }
                },
                "azdata_cell_guid": "1d69bb85-ed57-42a4-ac29-3aa020615388"
            },
            "outputs": [],
            "execution_count": 1
        },
        {
            "cell_type": "code",
            "source": [
                "data= pd.read_csv(r\"C:\\Users\\sidharth\\Desktop\\happycars\\Sales.csv\")\n",
                "data.head()"
            ],
            "metadata": {
                "extensions": {
                    "azuredatastudio": {
                        "views": []
                    }
                },
                "azdata_cell_guid": "61e29afa-bca9-46b5-83a6-82fffddfab9a"
            },
            "outputs": [
                {
                    "data": {
                        "text/plain": "   CustomerID  CarID          DateSold  SaleID\n0       11004      4  19-03-2006 00:00       1\n1       11004      6  24-02-2004 00:00       2\n2       11004      2  17-04-2004 00:00       3\n3       11004      1  20-01-2003 00:00       4\n4       11004     12  03-06-2005 00:00       5",
                        "text/html": "<div>\n<style scoped>\n    .dataframe tbody tr th:only-of-type {\n        vertical-align: middle;\n    }\n\n    .dataframe tbody tr th {\n        vertical-align: top;\n    }\n\n    .dataframe thead th {\n        text-align: right;\n    }\n</style>\n<table border=\"1\" class=\"dataframe\">\n  <thead>\n    <tr style=\"text-align: right;\">\n      <th></th>\n      <th>CustomerID</th>\n      <th>CarID</th>\n      <th>DateSold</th>\n      <th>SaleID</th>\n    </tr>\n  </thead>\n  <tbody>\n    <tr>\n      <th>0</th>\n      <td>11004</td>\n      <td>4</td>\n      <td>19-03-2006 00:00</td>\n      <td>1</td>\n    </tr>\n    <tr>\n      <th>1</th>\n      <td>11004</td>\n      <td>6</td>\n      <td>24-02-2004 00:00</td>\n      <td>2</td>\n    </tr>\n    <tr>\n      <th>2</th>\n      <td>11004</td>\n      <td>2</td>\n      <td>17-04-2004 00:00</td>\n      <td>3</td>\n    </tr>\n    <tr>\n      <th>3</th>\n      <td>11004</td>\n      <td>1</td>\n      <td>20-01-2003 00:00</td>\n      <td>4</td>\n    </tr>\n    <tr>\n      <th>4</th>\n      <td>11004</td>\n      <td>12</td>\n      <td>03-06-2005 00:00</td>\n      <td>5</td>\n    </tr>\n  </tbody>\n</table>\n</div>"
                    },
                    "metadata": {},
                    "execution_count": 2,
                    "output_type": "execute_result"
                }
            ],
            "execution_count": 2
        },
        {
            "cell_type": "code",
            "source": [
                "data.describe().transpose()"
            ],
            "metadata": {
                "extensions": {
                    "azuredatastudio": {
                        "views": []
                    }
                },
                "azdata_cell_guid": "1fda9a1b-0f12-4502-8e74-1c2b05955b5f"
            },
            "outputs": [
                {
                    "data": {
                        "text/plain": "              count          mean          std      min      25%      50%  \\\nCustomerID  22513.0  20270.253276  5272.805011  11004.0  15762.0  20327.0   \nCarID       22513.0      6.010883     3.808133      1.0      3.0      5.0   \nSaleID      22513.0  11257.000000  6499.087641      1.0   5629.0  11257.0   \n\n                75%      max  \nCustomerID  24825.0  29474.0  \nCarID           8.0     16.0  \nSaleID      16885.0  22513.0  ",
                        "text/html": "<div>\n<style scoped>\n    .dataframe tbody tr th:only-of-type {\n        vertical-align: middle;\n    }\n\n    .dataframe tbody tr th {\n        vertical-align: top;\n    }\n\n    .dataframe thead th {\n        text-align: right;\n    }\n</style>\n<table border=\"1\" class=\"dataframe\">\n  <thead>\n    <tr style=\"text-align: right;\">\n      <th></th>\n      <th>count</th>\n      <th>mean</th>\n      <th>std</th>\n      <th>min</th>\n      <th>25%</th>\n      <th>50%</th>\n      <th>75%</th>\n      <th>max</th>\n    </tr>\n  </thead>\n  <tbody>\n    <tr>\n      <th>CustomerID</th>\n      <td>22513.0</td>\n      <td>20270.253276</td>\n      <td>5272.805011</td>\n      <td>11004.0</td>\n      <td>15762.0</td>\n      <td>20327.0</td>\n      <td>24825.0</td>\n      <td>29474.0</td>\n    </tr>\n    <tr>\n      <th>CarID</th>\n      <td>22513.0</td>\n      <td>6.010883</td>\n      <td>3.808133</td>\n      <td>1.0</td>\n      <td>3.0</td>\n      <td>5.0</td>\n      <td>8.0</td>\n      <td>16.0</td>\n    </tr>\n    <tr>\n      <th>SaleID</th>\n      <td>22513.0</td>\n      <td>11257.000000</td>\n      <td>6499.087641</td>\n      <td>1.0</td>\n      <td>5629.0</td>\n      <td>11257.0</td>\n      <td>16885.0</td>\n      <td>22513.0</td>\n    </tr>\n  </tbody>\n</table>\n</div>"
                    },
                    "metadata": {},
                    "execution_count": 3,
                    "output_type": "execute_result"
                }
            ],
            "execution_count": 3
        },
        {
            "cell_type": "code",
            "source": [
                "data.isnull().sum()"
            ],
            "metadata": {
                "extensions": {
                    "azuredatastudio": {
                        "views": []
                    }
                },
                "azdata_cell_guid": "27ff6e49-121f-4740-a73a-35a8e0c6c1ad"
            },
            "outputs": [
                {
                    "data": {
                        "text/plain": "CustomerID    0\nCarID         0\nDateSold      0\nSaleID        0\ndtype: int64"
                    },
                    "metadata": {},
                    "execution_count": 4,
                    "output_type": "execute_result"
                }
            ],
            "execution_count": 4
        },
        {
            "cell_type": "code",
            "source": [
                "data['DateSold']=pd.to_datetime(data['DateSold'])\n",
                "data"
            ],
            "metadata": {
                "extensions": {
                    "azuredatastudio": {
                        "views": []
                    }
                },
                "azdata_cell_guid": "af532ad9-355c-4f5b-8d47-01759d7ff94b"
            },
            "outputs": [
                {
                    "data": {
                        "text/plain": "       CustomerID  CarID   DateSold  SaleID\n0           11004      4 2006-03-19       1\n1           11004      6 2004-02-24       2\n2           11004      2 2004-04-17       3\n3           11004      1 2003-01-20       4\n4           11004     12 2005-03-06       5\n...           ...    ...        ...     ...\n22508       29460      7 2004-10-09   22509\n22509       29460      4 2003-11-12   22510\n22510       29470      7 2004-08-19   22511\n22511       29472      5 2003-10-03   22512\n22512       29474      3 2005-08-05   22513\n\n[22513 rows x 4 columns]",
                        "text/html": "<div>\n<style scoped>\n    .dataframe tbody tr th:only-of-type {\n        vertical-align: middle;\n    }\n\n    .dataframe tbody tr th {\n        vertical-align: top;\n    }\n\n    .dataframe thead th {\n        text-align: right;\n    }\n</style>\n<table border=\"1\" class=\"dataframe\">\n  <thead>\n    <tr style=\"text-align: right;\">\n      <th></th>\n      <th>CustomerID</th>\n      <th>CarID</th>\n      <th>DateSold</th>\n      <th>SaleID</th>\n    </tr>\n  </thead>\n  <tbody>\n    <tr>\n      <th>0</th>\n      <td>11004</td>\n      <td>4</td>\n      <td>2006-03-19</td>\n      <td>1</td>\n    </tr>\n    <tr>\n      <th>1</th>\n      <td>11004</td>\n      <td>6</td>\n      <td>2004-02-24</td>\n      <td>2</td>\n    </tr>\n    <tr>\n      <th>2</th>\n      <td>11004</td>\n      <td>2</td>\n      <td>2004-04-17</td>\n      <td>3</td>\n    </tr>\n    <tr>\n      <th>3</th>\n      <td>11004</td>\n      <td>1</td>\n      <td>2003-01-20</td>\n      <td>4</td>\n    </tr>\n    <tr>\n      <th>4</th>\n      <td>11004</td>\n      <td>12</td>\n      <td>2005-03-06</td>\n      <td>5</td>\n    </tr>\n    <tr>\n      <th>...</th>\n      <td>...</td>\n      <td>...</td>\n      <td>...</td>\n      <td>...</td>\n    </tr>\n    <tr>\n      <th>22508</th>\n      <td>29460</td>\n      <td>7</td>\n      <td>2004-10-09</td>\n      <td>22509</td>\n    </tr>\n    <tr>\n      <th>22509</th>\n      <td>29460</td>\n      <td>4</td>\n      <td>2003-11-12</td>\n      <td>22510</td>\n    </tr>\n    <tr>\n      <th>22510</th>\n      <td>29470</td>\n      <td>7</td>\n      <td>2004-08-19</td>\n      <td>22511</td>\n    </tr>\n    <tr>\n      <th>22511</th>\n      <td>29472</td>\n      <td>5</td>\n      <td>2003-10-03</td>\n      <td>22512</td>\n    </tr>\n    <tr>\n      <th>22512</th>\n      <td>29474</td>\n      <td>3</td>\n      <td>2005-08-05</td>\n      <td>22513</td>\n    </tr>\n  </tbody>\n</table>\n<p>22513 rows × 4 columns</p>\n</div>"
                    },
                    "metadata": {},
                    "execution_count": 5,
                    "output_type": "execute_result"
                }
            ],
            "execution_count": 5
        },
        {
            "cell_type": "code",
            "source": [
                "data['DateSold']=data['DateSold'].dt.year\r\n",
                "data.head()"
            ],
            "metadata": {
                "azdata_cell_guid": "571e1e24-a16d-4071-a71d-1b0b0d4a74d3"
            },
            "outputs": [
                {
                    "data": {
                        "text/plain": "   CustomerID  CarID  DateSold  SaleID\n0       11004      4      2006       1\n1       11004      6      2004       2\n2       11004      2      2004       3\n3       11004      1      2003       4\n4       11004     12      2005       5",
                        "text/html": "<div>\n<style scoped>\n    .dataframe tbody tr th:only-of-type {\n        vertical-align: middle;\n    }\n\n    .dataframe tbody tr th {\n        vertical-align: top;\n    }\n\n    .dataframe thead th {\n        text-align: right;\n    }\n</style>\n<table border=\"1\" class=\"dataframe\">\n  <thead>\n    <tr style=\"text-align: right;\">\n      <th></th>\n      <th>CustomerID</th>\n      <th>CarID</th>\n      <th>DateSold</th>\n      <th>SaleID</th>\n    </tr>\n  </thead>\n  <tbody>\n    <tr>\n      <th>0</th>\n      <td>11004</td>\n      <td>4</td>\n      <td>2006</td>\n      <td>1</td>\n    </tr>\n    <tr>\n      <th>1</th>\n      <td>11004</td>\n      <td>6</td>\n      <td>2004</td>\n      <td>2</td>\n    </tr>\n    <tr>\n      <th>2</th>\n      <td>11004</td>\n      <td>2</td>\n      <td>2004</td>\n      <td>3</td>\n    </tr>\n    <tr>\n      <th>3</th>\n      <td>11004</td>\n      <td>1</td>\n      <td>2003</td>\n      <td>4</td>\n    </tr>\n    <tr>\n      <th>4</th>\n      <td>11004</td>\n      <td>12</td>\n      <td>2005</td>\n      <td>5</td>\n    </tr>\n  </tbody>\n</table>\n</div>"
                    },
                    "metadata": {},
                    "execution_count": 8,
                    "output_type": "execute_result"
                }
            ],
            "execution_count": 8
        },
        {
            "cell_type": "code",
            "source": [
                "data['DateSold'].describe()"
            ],
            "metadata": {
                "extensions": {
                    "azuredatastudio": {
                        "views": []
                    }
                },
                "azdata_cell_guid": "5fd59d3d-0872-4927-b43a-e3c4ab8549a8"
            },
            "outputs": [
                {
                    "data": {
                        "text/plain": "count    22513.000000\nmean      2004.255941\nstd          1.107200\nmin       2003.000000\n25%       2003.000000\n50%       2004.000000\n75%       2005.000000\nmax       2007.000000\nName: DateSold, dtype: float64"
                    },
                    "metadata": {},
                    "execution_count": 9,
                    "output_type": "execute_result"
                }
            ],
            "execution_count": 9
        },
        {
            "cell_type": "code",
            "source": [
                "print(data['DateSold'].value_counts())"
            ],
            "metadata": {
                "azdata_cell_guid": "640c7d0a-a50c-4649-a6ed-f1bfef59e4f8"
            },
            "outputs": [
                {
                    "name": "stdout",
                    "text": "2003    6953\n2004    6900\n2005    5252\n2006    2761\n2007     647\nName: DateSold, dtype: int64\n",
                    "output_type": "stream"
                }
            ],
            "execution_count": 11
        },
        {
            "cell_type": "code",
            "source": [
                "plt.figure(figsize=(10,4),dpi=200)\n",
                "sns.histplot(x='DateSold',data=data )"
            ],
            "metadata": {
                "extensions": {
                    "azuredatastudio": {
                        "views": []
                    }
                },
                "azdata_cell_guid": "fffbf8bb-4797-4e21-ae78-6cb4a71433b0"
            },
            "outputs": [
                {
                    "data": {
                        "text/plain": "<Figure size 2000x800 with 1 Axes>",
                        "image/png": "[encoded data removed]"
                    },
                    "metadata": {
                        "needs_background": "light"
                    },
                    "output_type": "display_data"
                },
                {
                    "data": {
                        "text/plain": "<AxesSubplot:xlabel='DateSold', ylabel='Count'>"
                    },
                    "metadata": {},
                    "execution_count": 10,
                    "output_type": "execute_result"
                }
            ],
            "execution_count": 10
        },
        {
            "cell_type": "code",
            "source": [],
            "metadata": {
                "extensions": {
                    "azuredatastudio": {
                        "views": []
                    }
                },
                "azdata_cell_guid": "af3d701c-6caa-4c46-b967-d5f8f07cff77"
            },
            "outputs": [],
            "execution_count": null
        }
    ]
}