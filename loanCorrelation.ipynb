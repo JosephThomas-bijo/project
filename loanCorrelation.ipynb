{
    "metadata": {
        "kernelspec": {
            "name": "python3",
            "display_name": "Python 3",
            "language": "python"
        },
        "language_info": {
            "name": "python",
            "version": "3.8.8",
            "mimetype": "text/x-python",
            "codemirror_mode": {
                "name": "ipython",
                "version": 3
            },
            "pygments_lexer": "ipython3",
            "nbconvert_exporter": "python",
            "file_extension": ".py"
        },
        "extensions": {
            "azuredatastudio": {
                "version": 1,
                "views": []
            }
        }
    },
    "nbformat_minor": 2,
    "nbformat": 4,
    "cells": [
        {
            "cell_type": "code",
            "source": [
                "import pandas as pd\n",
                "import numpy as np\n",
                "import seaborn as sns\n",
                "import matplotlib.pyplot as plt"
            ],
            "metadata": {
                "extensions": {
                    "azuredatastudio": {
                        "views": []
                    }
                },
                "azdata_cell_guid": "805da24c-03b3-4480-b4ec-38b4cee8958a"
            },
            "outputs": [],
            "execution_count": 13
        },
        {
            "cell_type": "code",
            "source": [
                "Loans = pd.read_csv(r'C:\\Users\\sidharth\\Desktop\\happycars\\Loans.csv')"
            ],
            "metadata": {
                "extensions": {
                    "azuredatastudio": {
                        "views": []
                    }
                },
                "azdata_cell_guid": "e751621b-5b8b-4b53-aa24-4fa33879c9ef"
            },
            "outputs": [],
            "execution_count": 14
        },
        {
            "cell_type": "code",
            "source": [
                "Loans.head(5)"
            ],
            "metadata": {
                "extensions": {
                    "azuredatastudio": {
                        "views": []
                    }
                },
                "azdata_cell_guid": "25a4b632-cdf5-4a17-8d3f-607e372b57a8"
            },
            "outputs": [
                {
                    "data": {
                        "text/plain": "   LoanID  SaleID  Amount  AmountPercent  Interest  Period          Status\n0       1       1   15200             80      6.50      24    Healthy Live\n1       2       2   26100             90      6.75      30  Healthy Closed\n2       3       3   22400             80      7.50      36       Defaulted\n3       4       4   21600             90      7.50      42       Defaulted\n4       5       5   44000            100     10.00      60    Healthy Live",
                        "text/html": "<div>\n<style scoped>\n    .dataframe tbody tr th:only-of-type {\n        vertical-align: middle;\n    }\n\n    .dataframe tbody tr th {\n        vertical-align: top;\n    }\n\n    .dataframe thead th {\n        text-align: right;\n    }\n</style>\n<table border=\"1\" class=\"dataframe\">\n  <thead>\n    <tr style=\"text-align: right;\">\n      <th></th>\n      <th>LoanID</th>\n      <th>SaleID</th>\n      <th>Amount</th>\n      <th>AmountPercent</th>\n      <th>Interest</th>\n      <th>Period</th>\n      <th>Status</th>\n    </tr>\n  </thead>\n  <tbody>\n    <tr>\n      <th>0</th>\n      <td>1</td>\n      <td>1</td>\n      <td>15200</td>\n      <td>80</td>\n      <td>6.50</td>\n      <td>24</td>\n      <td>Healthy Live</td>\n    </tr>\n    <tr>\n      <th>1</th>\n      <td>2</td>\n      <td>2</td>\n      <td>26100</td>\n      <td>90</td>\n      <td>6.75</td>\n      <td>30</td>\n      <td>Healthy Closed</td>\n    </tr>\n    <tr>\n      <th>2</th>\n      <td>3</td>\n      <td>3</td>\n      <td>22400</td>\n      <td>80</td>\n      <td>7.50</td>\n      <td>36</td>\n      <td>Defaulted</td>\n    </tr>\n    <tr>\n      <th>3</th>\n      <td>4</td>\n      <td>4</td>\n      <td>21600</td>\n      <td>90</td>\n      <td>7.50</td>\n      <td>42</td>\n      <td>Defaulted</td>\n    </tr>\n    <tr>\n      <th>4</th>\n      <td>5</td>\n      <td>5</td>\n      <td>44000</td>\n      <td>100</td>\n      <td>10.00</td>\n      <td>60</td>\n      <td>Healthy Live</td>\n    </tr>\n  </tbody>\n</table>\n</div>"
                    },
                    "metadata": {},
                    "execution_count": 15,
                    "output_type": "execute_result"
                }
            ],
            "execution_count": 15
        },
        {
            "cell_type": "code",
            "source": [
                "Loans['code']=pd.factorize(Loans.Status)[0]"
            ],
            "metadata": {
                "extensions": {
                    "azuredatastudio": {
                        "views": []
                    }
                },
                "azdata_cell_guid": "78eb6b40-9b26-4341-a535-2dd1712d5070"
            },
            "outputs": [],
            "execution_count": 16
        },
        {
            "cell_type": "code",
            "source": [
                "Loans.head(5)"
            ],
            "metadata": {
                "extensions": {
                    "azuredatastudio": {
                        "views": []
                    }
                },
                "azdata_cell_guid": "b21f112b-77e7-4493-b22e-f8cd72149f1e"
            },
            "outputs": [
                {
                    "data": {
                        "text/plain": "   LoanID  SaleID  Amount  AmountPercent  Interest  Period          Status  \\\n0       1       1   15200             80      6.50      24    Healthy Live   \n1       2       2   26100             90      6.75      30  Healthy Closed   \n2       3       3   22400             80      7.50      36       Defaulted   \n3       4       4   21600             90      7.50      42       Defaulted   \n4       5       5   44000            100     10.00      60    Healthy Live   \n\n   code  \n0     0  \n1     1  \n2     2  \n3     2  \n4     0  ",
                        "text/html": "<div>\n<style scoped>\n    .dataframe tbody tr th:only-of-type {\n        vertical-align: middle;\n    }\n\n    .dataframe tbody tr th {\n        vertical-align: top;\n    }\n\n    .dataframe thead th {\n        text-align: right;\n    }\n</style>\n<table border=\"1\" class=\"dataframe\">\n  <thead>\n    <tr style=\"text-align: right;\">\n      <th></th>\n      <th>LoanID</th>\n      <th>SaleID</th>\n      <th>Amount</th>\n      <th>AmountPercent</th>\n      <th>Interest</th>\n      <th>Period</th>\n      <th>Status</th>\n      <th>code</th>\n    </tr>\n  </thead>\n  <tbody>\n    <tr>\n      <th>0</th>\n      <td>1</td>\n      <td>1</td>\n      <td>15200</td>\n      <td>80</td>\n      <td>6.50</td>\n      <td>24</td>\n      <td>Healthy Live</td>\n      <td>0</td>\n    </tr>\n    <tr>\n      <th>1</th>\n      <td>2</td>\n      <td>2</td>\n      <td>26100</td>\n      <td>90</td>\n      <td>6.75</td>\n      <td>30</td>\n      <td>Healthy Closed</td>\n      <td>1</td>\n    </tr>\n    <tr>\n      <th>2</th>\n      <td>3</td>\n      <td>3</td>\n      <td>22400</td>\n      <td>80</td>\n      <td>7.50</td>\n      <td>36</td>\n      <td>Defaulted</td>\n      <td>2</td>\n    </tr>\n    <tr>\n      <th>3</th>\n      <td>4</td>\n      <td>4</td>\n      <td>21600</td>\n      <td>90</td>\n      <td>7.50</td>\n      <td>42</td>\n      <td>Defaulted</td>\n      <td>2</td>\n    </tr>\n    <tr>\n      <th>4</th>\n      <td>5</td>\n      <td>5</td>\n      <td>44000</td>\n      <td>100</td>\n      <td>10.00</td>\n      <td>60</td>\n      <td>Healthy Live</td>\n      <td>0</td>\n    </tr>\n  </tbody>\n</table>\n</div>"
                    },
                    "metadata": {},
                    "execution_count": 17,
                    "output_type": "execute_result"
                }
            ],
            "execution_count": 17
        },
        {
            "cell_type": "code",
            "source": [
                "Loans.drop('Status',axis='columns')"
            ],
            "metadata": {
                "extensions": {
                    "azuredatastudio": {
                        "views": []
                    }
                },
                "azdata_cell_guid": "832f7c07-d0b5-4b02-b185-bece598c7ed4"
            },
            "outputs": [
                {
                    "data": {
                        "text/plain": "       LoanID  SaleID  Amount  AmountPercent  Interest  Period  code\n0           1       1   15200             80      6.50      24     0\n1           2       2   26100             90      6.75      30     1\n2           3       3   22400             80      7.50      36     2\n3           4       4   21600             90      7.50      42     2\n4           5       5   44000            100     10.00      60     0\n...       ...     ...     ...            ...       ...     ...   ...\n21054   22509   22509   16800             80      7.75      24     1\n21055   22510   22510   15200             80      7.50      24     1\n21056   22511   22511   18900             90      8.00      30     2\n21057   22512   22512   19800             90      9.00      42     2\n21058   22513   22513   31500             90      9.25      30     2\n\n[21059 rows x 7 columns]",
                        "text/html": "<div>\n<style scoped>\n    .dataframe tbody tr th:only-of-type {\n        vertical-align: middle;\n    }\n\n    .dataframe tbody tr th {\n        vertical-align: top;\n    }\n\n    .dataframe thead th {\n        text-align: right;\n    }\n</style>\n<table border=\"1\" class=\"dataframe\">\n  <thead>\n    <tr style=\"text-align: right;\">\n      <th></th>\n      <th>LoanID</th>\n      <th>SaleID</th>\n      <th>Amount</th>\n      <th>AmountPercent</th>\n      <th>Interest</th>\n      <th>Period</th>\n      <th>code</th>\n    </tr>\n  </thead>\n  <tbody>\n    <tr>\n      <th>0</th>\n      <td>1</td>\n      <td>1</td>\n      <td>15200</td>\n      <td>80</td>\n      <td>6.50</td>\n      <td>24</td>\n      <td>0</td>\n    </tr>\n    <tr>\n      <th>1</th>\n      <td>2</td>\n      <td>2</td>\n      <td>26100</td>\n      <td>90</td>\n      <td>6.75</td>\n      <td>30</td>\n      <td>1</td>\n    </tr>\n    <tr>\n      <th>2</th>\n      <td>3</td>\n      <td>3</td>\n      <td>22400</td>\n      <td>80</td>\n      <td>7.50</td>\n      <td>36</td>\n      <td>2</td>\n    </tr>\n    <tr>\n      <th>3</th>\n      <td>4</td>\n      <td>4</td>\n      <td>21600</td>\n      <td>90</td>\n      <td>7.50</td>\n      <td>42</td>\n      <td>2</td>\n    </tr>\n    <tr>\n      <th>4</th>\n      <td>5</td>\n      <td>5</td>\n      <td>44000</td>\n      <td>100</td>\n      <td>10.00</td>\n      <td>60</td>\n      <td>0</td>\n    </tr>\n    <tr>\n      <th>...</th>\n      <td>...</td>\n      <td>...</td>\n      <td>...</td>\n      <td>...</td>\n      <td>...</td>\n      <td>...</td>\n      <td>...</td>\n    </tr>\n    <tr>\n      <th>21054</th>\n      <td>22509</td>\n      <td>22509</td>\n      <td>16800</td>\n      <td>80</td>\n      <td>7.75</td>\n      <td>24</td>\n      <td>1</td>\n    </tr>\n    <tr>\n      <th>21055</th>\n      <td>22510</td>\n      <td>22510</td>\n      <td>15200</td>\n      <td>80</td>\n      <td>7.50</td>\n      <td>24</td>\n      <td>1</td>\n    </tr>\n    <tr>\n      <th>21056</th>\n      <td>22511</td>\n      <td>22511</td>\n      <td>18900</td>\n      <td>90</td>\n      <td>8.00</td>\n      <td>30</td>\n      <td>2</td>\n    </tr>\n    <tr>\n      <th>21057</th>\n      <td>22512</td>\n      <td>22512</td>\n      <td>19800</td>\n      <td>90</td>\n      <td>9.00</td>\n      <td>42</td>\n      <td>2</td>\n    </tr>\n    <tr>\n      <th>21058</th>\n      <td>22513</td>\n      <td>22513</td>\n      <td>31500</td>\n      <td>90</td>\n      <td>9.25</td>\n      <td>30</td>\n      <td>2</td>\n    </tr>\n  </tbody>\n</table>\n<p>21059 rows × 7 columns</p>\n</div>"
                    },
                    "metadata": {},
                    "execution_count": 18,
                    "output_type": "execute_result"
                }
            ],
            "execution_count": 18
        },
        {
            "cell_type": "code",
            "source": [
                "Loans.drop(['LoanID','SaleID'],'columns',inplace=True)\r\n",
                "Loans.head()"
            ],
            "metadata": {
                "azdata_cell_guid": "0675895f-9eac-4faa-9a33-9186997fcd73"
            },
            "outputs": [
                {
                    "data": {
                        "text/plain": "   Amount  AmountPercent  Interest  Period          Status  code\n0   15200             80      6.50      24    Healthy Live     0\n1   26100             90      6.75      30  Healthy Closed     1\n2   22400             80      7.50      36       Defaulted     2\n3   21600             90      7.50      42       Defaulted     2\n4   44000            100     10.00      60    Healthy Live     0",
                        "text/html": "<div>\n<style scoped>\n    .dataframe tbody tr th:only-of-type {\n        vertical-align: middle;\n    }\n\n    .dataframe tbody tr th {\n        vertical-align: top;\n    }\n\n    .dataframe thead th {\n        text-align: right;\n    }\n</style>\n<table border=\"1\" class=\"dataframe\">\n  <thead>\n    <tr style=\"text-align: right;\">\n      <th></th>\n      <th>Amount</th>\n      <th>AmountPercent</th>\n      <th>Interest</th>\n      <th>Period</th>\n      <th>Status</th>\n      <th>code</th>\n    </tr>\n  </thead>\n  <tbody>\n    <tr>\n      <th>0</th>\n      <td>15200</td>\n      <td>80</td>\n      <td>6.50</td>\n      <td>24</td>\n      <td>Healthy Live</td>\n      <td>0</td>\n    </tr>\n    <tr>\n      <th>1</th>\n      <td>26100</td>\n      <td>90</td>\n      <td>6.75</td>\n      <td>30</td>\n      <td>Healthy Closed</td>\n      <td>1</td>\n    </tr>\n    <tr>\n      <th>2</th>\n      <td>22400</td>\n      <td>80</td>\n      <td>7.50</td>\n      <td>36</td>\n      <td>Defaulted</td>\n      <td>2</td>\n    </tr>\n    <tr>\n      <th>3</th>\n      <td>21600</td>\n      <td>90</td>\n      <td>7.50</td>\n      <td>42</td>\n      <td>Defaulted</td>\n      <td>2</td>\n    </tr>\n    <tr>\n      <th>4</th>\n      <td>44000</td>\n      <td>100</td>\n      <td>10.00</td>\n      <td>60</td>\n      <td>Healthy Live</td>\n      <td>0</td>\n    </tr>\n  </tbody>\n</table>\n</div>"
                    },
                    "metadata": {},
                    "execution_count": 20,
                    "output_type": "execute_result"
                }
            ],
            "execution_count": 20
        },
        {
            "cell_type": "code",
            "source": [
                "Loans.drop(['code'],'columns',inplace=True)\r\n",
                "Loans.head()"
            ],
            "metadata": {
                "azdata_cell_guid": "71f5ebca-a3f6-453b-ac03-64f1d9d9a0c5"
            },
            "outputs": [
                {
                    "data": {
                        "text/plain": "   Amount  AmountPercent  Interest  Period          Status\n0   15200             80      6.50      24    Healthy Live\n1   26100             90      6.75      30  Healthy Closed\n2   22400             80      7.50      36       Defaulted\n3   21600             90      7.50      42       Defaulted\n4   44000            100     10.00      60    Healthy Live",
                        "text/html": "<div>\n<style scoped>\n    .dataframe tbody tr th:only-of-type {\n        vertical-align: middle;\n    }\n\n    .dataframe tbody tr th {\n        vertical-align: top;\n    }\n\n    .dataframe thead th {\n        text-align: right;\n    }\n</style>\n<table border=\"1\" class=\"dataframe\">\n  <thead>\n    <tr style=\"text-align: right;\">\n      <th></th>\n      <th>Amount</th>\n      <th>AmountPercent</th>\n      <th>Interest</th>\n      <th>Period</th>\n      <th>Status</th>\n    </tr>\n  </thead>\n  <tbody>\n    <tr>\n      <th>0</th>\n      <td>15200</td>\n      <td>80</td>\n      <td>6.50</td>\n      <td>24</td>\n      <td>Healthy Live</td>\n    </tr>\n    <tr>\n      <th>1</th>\n      <td>26100</td>\n      <td>90</td>\n      <td>6.75</td>\n      <td>30</td>\n      <td>Healthy Closed</td>\n    </tr>\n    <tr>\n      <th>2</th>\n      <td>22400</td>\n      <td>80</td>\n      <td>7.50</td>\n      <td>36</td>\n      <td>Defaulted</td>\n    </tr>\n    <tr>\n      <th>3</th>\n      <td>21600</td>\n      <td>90</td>\n      <td>7.50</td>\n      <td>42</td>\n      <td>Defaulted</td>\n    </tr>\n    <tr>\n      <th>4</th>\n      <td>44000</td>\n      <td>100</td>\n      <td>10.00</td>\n      <td>60</td>\n      <td>Healthy Live</td>\n    </tr>\n  </tbody>\n</table>\n</div>"
                    },
                    "metadata": {},
                    "execution_count": 22,
                    "output_type": "execute_result"
                }
            ],
            "execution_count": 22
        },
        {
            "cell_type": "code",
            "source": [
                "plt.figure(figsize=(16, 9))\n",
                "heatmap = sns.heatmap(Loans.corr(), vmin=-1, vmax=1, annot=True)\n",
                "heatmap.set_title('Correlation Heatmap', fontdict={'fontsize':12}, pad=12)"
            ],
            "metadata": {
                "extensions": {
                    "azuredatastudio": {
                        "views": []
                    }
                },
                "azdata_cell_guid": "5eaae0ab-ea30-43fb-82e1-329a2a1c8548"
            },
            "outputs": [
                {
                    "data": {
                        "text/plain": "<Figure size 1152x648 with 2 Axes>",
                        "image/png": "[encoded data removed]"
                    },
                    "metadata": {
                        "needs_background": "light"
                    },
                    "output_type": "display_data"
                },
                {
                    "data": {
                        "text/plain": "Text(0.5, 1.0, 'Correlation Heatmap')"
                    },
                    "metadata": {},
                    "execution_count": 23,
                    "output_type": "execute_result"
                }
            ],
            "execution_count": 23
        },
        {
            "cell_type": "code",
            "source": [],
            "metadata": {
                "extensions": {
                    "azuredatastudio": {
                        "views": []
                    }
                },
                "azdata_cell_guid": "e7b0aeb7-0734-4656-a15d-da4221ab5393"
            },
            "outputs": [],
            "execution_count": null
        }
    ]
}