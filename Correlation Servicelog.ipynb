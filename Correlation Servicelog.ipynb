{
    "metadata": {
        "kernelspec": {
            "name": "python3",
            "display_name": "Python 3",
            "language": "python"
        },
        "language_info": {
            "name": "python",
            "version": "3.8.8",
            "mimetype": "text/x-python",
            "codemirror_mode": {
                "name": "ipython",
                "version": 3
            },
            "pygments_lexer": "ipython3",
            "nbconvert_exporter": "python",
            "file_extension": ".py"
        },
        "extensions": {
            "azuredatastudio": {
                "version": 1,
                "views": []
            }
        }
    },
    "nbformat_minor": 2,
    "nbformat": 4,
    "cells": [
        {
            "cell_type": "code",
            "source": [
                "import pandas as pd\r\n",
                "import numpy as np\r\n",
                "import seaborn as sns\r\n",
                "import matplotlib.pyplot as plt"
            ],
            "metadata": {
                "azdata_cell_guid": "9f51546c-94f1-49df-8d01-8f6d9d20a75f"
            },
            "outputs": [],
            "execution_count": 2
        },
        {
            "cell_type": "code",
            "source": [
                "df = pd.read_csv(r'C:\\Users\\sidharth\\Desktop\\happycars\\Service Log.csv')\r\n",
                "df.head()\r\n",
                ""
            ],
            "metadata": {
                "azdata_cell_guid": "f03d4e78-3972-4a27-8062-1bad2dbf66db"
            },
            "outputs": [
                {
                    "data": {
                        "text/plain": "   SeviceID  CustomerID              Date  Revenue  SAT_Score\n0         0       11004  18-06-2003 00:00      240          6\n1         1       11006  20-07-2004 00:00      280          7\n2         2       11007  28-12-2003 00:00      210          7\n3         3       11008  29-04-2005 00:00      290          5\n4         4       11009  18-12-2003 00:00      350          9",
                        "text/html": "<div>\n<style scoped>\n    .dataframe tbody tr th:only-of-type {\n        vertical-align: middle;\n    }\n\n    .dataframe tbody tr th {\n        vertical-align: top;\n    }\n\n    .dataframe thead th {\n        text-align: right;\n    }\n</style>\n<table border=\"1\" class=\"dataframe\">\n  <thead>\n    <tr style=\"text-align: right;\">\n      <th></th>\n      <th>SeviceID</th>\n      <th>CustomerID</th>\n      <th>Date</th>\n      <th>Revenue</th>\n      <th>SAT_Score</th>\n    </tr>\n  </thead>\n  <tbody>\n    <tr>\n      <th>0</th>\n      <td>0</td>\n      <td>11004</td>\n      <td>18-06-2003 00:00</td>\n      <td>240</td>\n      <td>6</td>\n    </tr>\n    <tr>\n      <th>1</th>\n      <td>1</td>\n      <td>11006</td>\n      <td>20-07-2004 00:00</td>\n      <td>280</td>\n      <td>7</td>\n    </tr>\n    <tr>\n      <th>2</th>\n      <td>2</td>\n      <td>11007</td>\n      <td>28-12-2003 00:00</td>\n      <td>210</td>\n      <td>7</td>\n    </tr>\n    <tr>\n      <th>3</th>\n      <td>3</td>\n      <td>11008</td>\n      <td>29-04-2005 00:00</td>\n      <td>290</td>\n      <td>5</td>\n    </tr>\n    <tr>\n      <th>4</th>\n      <td>4</td>\n      <td>11009</td>\n      <td>18-12-2003 00:00</td>\n      <td>350</td>\n      <td>9</td>\n    </tr>\n  </tbody>\n</table>\n</div>"
                    },
                    "metadata": {},
                    "execution_count": 5,
                    "output_type": "execute_result"
                }
            ],
            "execution_count": 5
        },
        {
            "cell_type": "code",
            "source": [
                "df.drop(['SeviceID','CustomerID'],'columns',inplace=True)\r\n",
                "df.head()"
            ],
            "metadata": {
                "azdata_cell_guid": "0e5e09f7-767a-4467-b2c5-f3b50787b7fd"
            },
            "outputs": [
                {
                    "data": {
                        "text/plain": "               Date  Revenue  SAT_Score\n0  18-06-2003 00:00      240          6\n1  20-07-2004 00:00      280          7\n2  28-12-2003 00:00      210          7\n3  29-04-2005 00:00      290          5\n4  18-12-2003 00:00      350          9",
                        "text/html": "<div>\n<style scoped>\n    .dataframe tbody tr th:only-of-type {\n        vertical-align: middle;\n    }\n\n    .dataframe tbody tr th {\n        vertical-align: top;\n    }\n\n    .dataframe thead th {\n        text-align: right;\n    }\n</style>\n<table border=\"1\" class=\"dataframe\">\n  <thead>\n    <tr style=\"text-align: right;\">\n      <th></th>\n      <th>Date</th>\n      <th>Revenue</th>\n      <th>SAT_Score</th>\n    </tr>\n  </thead>\n  <tbody>\n    <tr>\n      <th>0</th>\n      <td>18-06-2003 00:00</td>\n      <td>240</td>\n      <td>6</td>\n    </tr>\n    <tr>\n      <th>1</th>\n      <td>20-07-2004 00:00</td>\n      <td>280</td>\n      <td>7</td>\n    </tr>\n    <tr>\n      <th>2</th>\n      <td>28-12-2003 00:00</td>\n      <td>210</td>\n      <td>7</td>\n    </tr>\n    <tr>\n      <th>3</th>\n      <td>29-04-2005 00:00</td>\n      <td>290</td>\n      <td>5</td>\n    </tr>\n    <tr>\n      <th>4</th>\n      <td>18-12-2003 00:00</td>\n      <td>350</td>\n      <td>9</td>\n    </tr>\n  </tbody>\n</table>\n</div>"
                    },
                    "metadata": {},
                    "execution_count": 6,
                    "output_type": "execute_result"
                }
            ],
            "execution_count": 6
        },
        {
            "cell_type": "code",
            "source": [
                "df['Date']=pd.to_datetime(df['Date'])\r\n",
                "df.head()"
            ],
            "metadata": {
                "azdata_cell_guid": "acee581a-1db4-40fe-8a41-4b46e0f597df",
                "tags": []
            },
            "outputs": [
                {
                    "data": {
                        "text/plain": "        Date  Revenue  SAT_Score\n0 2003-06-18      240          6\n1 2004-07-20      280          7\n2 2003-12-28      210          7\n3 2005-04-29      290          5\n4 2003-12-18      350          9",
                        "text/html": "<div>\n<style scoped>\n    .dataframe tbody tr th:only-of-type {\n        vertical-align: middle;\n    }\n\n    .dataframe tbody tr th {\n        vertical-align: top;\n    }\n\n    .dataframe thead th {\n        text-align: right;\n    }\n</style>\n<table border=\"1\" class=\"dataframe\">\n  <thead>\n    <tr style=\"text-align: right;\">\n      <th></th>\n      <th>Date</th>\n      <th>Revenue</th>\n      <th>SAT_Score</th>\n    </tr>\n  </thead>\n  <tbody>\n    <tr>\n      <th>0</th>\n      <td>2003-06-18</td>\n      <td>240</td>\n      <td>6</td>\n    </tr>\n    <tr>\n      <th>1</th>\n      <td>2004-07-20</td>\n      <td>280</td>\n      <td>7</td>\n    </tr>\n    <tr>\n      <th>2</th>\n      <td>2003-12-28</td>\n      <td>210</td>\n      <td>7</td>\n    </tr>\n    <tr>\n      <th>3</th>\n      <td>2005-04-29</td>\n      <td>290</td>\n      <td>5</td>\n    </tr>\n    <tr>\n      <th>4</th>\n      <td>2003-12-18</td>\n      <td>350</td>\n      <td>9</td>\n    </tr>\n  </tbody>\n</table>\n</div>"
                    },
                    "metadata": {},
                    "execution_count": 9,
                    "output_type": "execute_result"
                }
            ],
            "execution_count": 9
        },
        {
            "cell_type": "code",
            "source": [
                "df['Date'] = df['Date'].dt.year\r\n",
                "df.head()"
            ],
            "metadata": {
                "azdata_cell_guid": "d59cb489-462b-4772-8755-bd2d02f81882"
            },
            "outputs": [
                {
                    "data": {
                        "text/plain": "   Date  Revenue  SAT_Score\n0  2003      240          6\n1  2004      280          7\n2  2003      210          7\n3  2005      290          5\n4  2003      350          9",
                        "text/html": "<div>\n<style scoped>\n    .dataframe tbody tr th:only-of-type {\n        vertical-align: middle;\n    }\n\n    .dataframe tbody tr th {\n        vertical-align: top;\n    }\n\n    .dataframe thead th {\n        text-align: right;\n    }\n</style>\n<table border=\"1\" class=\"dataframe\">\n  <thead>\n    <tr style=\"text-align: right;\">\n      <th></th>\n      <th>Date</th>\n      <th>Revenue</th>\n      <th>SAT_Score</th>\n    </tr>\n  </thead>\n  <tbody>\n    <tr>\n      <th>0</th>\n      <td>2003</td>\n      <td>240</td>\n      <td>6</td>\n    </tr>\n    <tr>\n      <th>1</th>\n      <td>2004</td>\n      <td>280</td>\n      <td>7</td>\n    </tr>\n    <tr>\n      <th>2</th>\n      <td>2003</td>\n      <td>210</td>\n      <td>7</td>\n    </tr>\n    <tr>\n      <th>3</th>\n      <td>2005</td>\n      <td>290</td>\n      <td>5</td>\n    </tr>\n    <tr>\n      <th>4</th>\n      <td>2003</td>\n      <td>350</td>\n      <td>9</td>\n    </tr>\n  </tbody>\n</table>\n</div>"
                    },
                    "metadata": {},
                    "execution_count": 12,
                    "output_type": "execute_result"
                }
            ],
            "execution_count": 12
        },
        {
            "cell_type": "code",
            "source": [
                "plt.figure(figsize=(16, 9))\r\n",
                "heatmap = sns.heatmap(df.corr(), vmin=-1, vmax=1, annot=True)\r\n",
                "heatmap.set_title('Correlation Heatmap', fontdict={'fontsize':12}, pad=12)"
            ],
            "metadata": {
                "azdata_cell_guid": "593e836f-7c0b-4ec0-95b1-2e7608afc5a7"
            },
            "outputs": [
                {
                    "data": {
                        "text/plain": "<Figure size 1152x648 with 2 Axes>",
                        "image/png": "[encoded data removed]"
                    },
                    "metadata": {
                        "needs_background": "light"
                    },
                    "output_type": "display_data"
                },
                {
                    "data": {
                        "text/plain": "Text(0.5, 1.0, 'Correlation Heatmap')"
                    },
                    "metadata": {},
                    "execution_count": 13,
                    "output_type": "execute_result"
                }
            ],
            "execution_count": 13
        }
    ]
}